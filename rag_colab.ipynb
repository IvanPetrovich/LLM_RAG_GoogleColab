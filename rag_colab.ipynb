{
	"cells": [
		{
			"cell_type": "code",
			"metadata": {},
			"source": [
				"# 1. Установка библиотек\n",
				"!pip install -q langchain chromadb sentence-transformers transformers ipywidgets"
			],
			"execution_count": null,
			"outputs": []
		},
		{
			"cell_type": "code",
			"metadata": {},
			"source": [
				"# 2. Импорт библиотек\n",
				"from langchain_community.vectorstores import Chroma\n",
				"from langchain.embeddings import HuggingFaceEmbeddings\n",
				"from langchain.docstore.document import Document\n",
				"from langchain.text_splitter import RecursiveCharacterTextSplitter\n",
				"from transformers import pipeline\n",
				"import ipywidgets as widgets\n",
				"from IPython.display import display"
			],
			"execution_count": null,
			"outputs": []
		},
		{
			"cell_type": "code",
			"metadata": {},
			"source": [
				"# 3. Загрузка текстовых файлов\n",
				"def load_file(path):\n",
				"    with open(path, \"r\", encoding=\"utf-8\") as f:\n",
				"        return f.read()\n",
				"\n",
				"upcoming_text = load_file(\"upcoming.txt\")  # ожидаемые новинки\n",
				"released_text = load_file(\"released.txt\")  # вышедшие игры"
			],
			"execution_count": null,
			"outputs": []
		},
		{
			"cell_type": "code",
			"metadata": {},
			"source": [
				"# 4. Разбиение текстов на куски для поиска\n",
				"splitter = RecursiveCharacterTextSplitter(chunk_size=500, chunk_overlap=50)\n",
				"upcoming_docs = splitter.split_documents([Document(page_content=upcoming_text)])\n",
				"released_docs = splitter.split_documents([Document(page_content=released_text)])"
			],
			"execution_count": null,
			"outputs": []
		},
		{
			"cell_type": "code",
			"metadata": {},
			"source": [
				"# 5. Создание эмбеддингов и баз данных\n",
				"embeddings = HuggingFaceEmbeddings(model_name=\"sentence-transformers/all-MiniLM-L6-v2\")\n",
				"db_upcoming = Chroma.from_documents(upcoming_docs, embeddings, collection_name=\"upcoming\")\n",
				"db_released = Chroma.from_documents(released_docs, embeddings, collection_name=\"released\")"
			],
			"execution_count": null,
			"outputs": []
		},
		{
			"cell_type": "code",
			"metadata": {},
			"source": [
				"# 6. Подключение генератора текста\n",
				"generator = pipeline(\"text-generation\", model=\"mistralai/Mistral-7B-Instruct-v0.2\", device=-1)\n",
				"\n",
				"def ask(query, db):\n",
				"    retriever = db.as_retriever(search_kwargs={\"k\": 3})\n",
				"    docs = retriever.get_relevant_documents(query)\n",
				"    context = \"\\n\".join([d.page_content for d in docs])\n",
				"    prompt = f\"Используя стиль из этого текста:\\n{context}\\n\\nНапиши обзор на: {query}\"\n",
				"    result = generator(prompt, max_new_tokens=300, do_sample=True, temperature=0.7)\n",
				"    return result[0][\"generated_text\"]"
			],
			"execution_count": null,
			"outputs": []
		},
		{
			"cell_type": "code",
			"metadata": {},
			"source": [
				"# 7. Создание интерфейса с выпадающим списком\n",
				"dropdown = widgets.Dropdown(\n",
				"    options=['Новинки', 'Вышедшие игры'],\n",
				"    value='Новинки',\n",
				"    description='База:',\n",
				")\n",
				"\n",
				"query_input = widgets.Text(\n",
				"    value='',\n",
				"    description='Запрос:',\n",
				"    placeholder='Название игры...',\n",
				"    layout=widgets.Layout(width='70%')\n",
				")\n",
				"\n",
				"output_area = widgets.Output()\n",
				"\n",
				"def on_button_click(b):\n",
				"    output_area.clear_output()\n",
				"    db = db_upcoming if dropdown.value == 'Новинки' else db_released\n",
				"    result = ask(query_input.value, db)\n",
				"    with output_area:\n",
				"        print(result)\n",
				"\n",
				"button = widgets.Button(description=\"Сгенерировать обзор\")\n",
				"button.on_click(on_button_click)\n",
				"\n",
				"display(dropdown, query_input, button, output_area)"
			],
			"execution_count": null,
			"outputs": []
		}
	],
	"metadata": {
		"kernelspec": {
			"name": "python3",
			"display_name": "Python 3"
		},
		"language_info": {
			"name": "python",
			"version": "3.10"
		}
	},
	"nbformat": 4,
	"nbformat_minor": 5
}